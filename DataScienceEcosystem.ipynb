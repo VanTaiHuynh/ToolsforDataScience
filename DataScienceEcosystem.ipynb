{
 "cells": [
  {
   "cell_type": "markdown",
   "id": "dc9cecd0-567b-43a7-8328-20e307c59d32",
   "metadata": {},
   "source": [
    "# Data Science Tools and Ecosystem"
   ]
  },
  {
   "cell_type": "markdown",
   "id": "176e3bb6-a2c1-4ed4-a68d-1e9ed75ac9e8",
   "metadata": {},
   "source": [
    "In this notebook, Data Science Tools and Ecosystem are summarized."
   ]
  },
  {
   "cell_type": "markdown",
   "id": "549a1799-e77d-415c-a3eb-4c45f6511406",
   "metadata": {},
   "source": [
    "Some of the popular languages that Data Scientists use are:\n",
    "1. Python\n",
    "2. R\n",
    "3. Java\n",
    "4. Scala"
   ]
  },
  {
   "cell_type": "markdown",
   "id": "566290e2-17ed-4949-bb21-6baeafbec9da",
   "metadata": {},
   "source": [
    "Some of the commonly used libraries used by Data Scientists include:\n",
    "1. Numpy\n",
    "2. Keras\n",
    "3. Pandas\n",
    "4. TensorFlow "
   ]
  },
  {
   "cell_type": "markdown",
   "id": "e38bbf69-afae-407c-9b2f-2954c472be1b",
   "metadata": {},
   "source": [
    "| Data Science Tools |\n",
    "| ------|\n",
    "| 1. Jupyter Notebook    |\r\n",
    "| 2. RStudio             |\r\n",
    "| 3. VSCode (Visual Studio Code) |"
   ]
  },
  {
   "cell_type": "markdown",
   "id": "0cdfa9b0-628a-4d90-96c8-06a73a202d77",
   "metadata": {},
   "source": [
    "### Below are a few examples of evaluating arithmetic expressions in Python"
   ]
  },
  {
   "cell_type": "code",
   "execution_count": 2,
   "id": "d9451443-9a2d-4078-83da-de1f92288234",
   "metadata": {},
   "outputs": [
    {
     "data": {
      "text/plain": [
       "17"
      ]
     },
     "execution_count": 2,
     "metadata": {},
     "output_type": "execute_result"
    }
   ],
   "source": [
    "# This a simple arithmetic expression to mutiply then add integers\n",
    "(3*4)+5"
   ]
  },
  {
   "cell_type": "code",
   "execution_count": 3,
   "id": "988b8218-f674-466e-a309-ffe21e1b856b",
   "metadata": {},
   "outputs": [
    {
     "data": {
      "text/plain": [
       "33.333333333333336"
      ]
     },
     "execution_count": 3,
     "metadata": {},
     "output_type": "execute_result"
    }
   ],
   "source": [
    "# This will convert 200 minutes to hours by diving by 60\n",
    "hours = 200/6 \n",
    "hours"
   ]
  },
  {
   "cell_type": "markdown",
   "id": "d6921cab-7d91-414a-a5df-ce2787b71378",
   "metadata": {},
   "source": [
    "**Objectives:**\n",
    "- Languages of Data Science\n",
    "- Introduce Python\n",
    "- Introduce R\n",
    "- Introduce Github\n"
   ]
  },
  {
   "cell_type": "markdown",
   "id": "21f1b74b-bd3b-4b11-91d6-06656e12a9d0",
   "metadata": {},
   "source": [
    "## Author: \n",
    "VAN TAI HUYNH"
   ]
  },
  {
   "cell_type": "code",
   "execution_count": null,
   "id": "a66624fb-6177-496d-8959-e2416bae1a69",
   "metadata": {},
   "outputs": [],
   "source": []
  }
 ],
 "metadata": {
  "kernelspec": {
   "display_name": "Python 3 (ipykernel)",
   "language": "python",
   "name": "python3"
  },
  "language_info": {
   "codemirror_mode": {
    "name": "ipython",
    "version": 3
   },
   "file_extension": ".py",
   "mimetype": "text/x-python",
   "name": "python",
   "nbconvert_exporter": "python",
   "pygments_lexer": "ipython3",
   "version": "3.11.5"
  }
 },
 "nbformat": 4,
 "nbformat_minor": 5
}
